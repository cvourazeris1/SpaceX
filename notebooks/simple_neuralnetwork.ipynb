{
 "cells": [
  {
   "cell_type": "code",
   "execution_count": 329,
   "metadata": {},
   "outputs": [
    {
     "data": {
      "text/plain": [
       "<module 'neural_network.evaluate_model' from 'C:\\\\Users\\\\Caleb Vourazeris\\\\Documents\\\\Code\\\\Python\\\\spaceX\\\\neural_network-project\\\\neural_network\\\\evaluate_model.py'>"
      ]
     },
     "execution_count": 329,
     "metadata": {},
     "output_type": "execute_result"
    }
   ],
   "source": [
    "from neural_network import graphs, load_data, models, training_loop, validation_loop, evaluate_model\n",
    "import torch\n",
    "import torch.nn as nn\n",
    "import torch.nn.functional as F\n",
    "import importlib\n",
    "\n",
    "\n",
    "importlib.reload(graphs)\n",
    "importlib.reload(load_data)\n",
    "importlib.reload(models)\n",
    "importlib.reload(training_loop)\n",
    "importlib.reload(validation_loop)\n",
    "importlib.reload(evaluate_model)\n",
    "\n"
   ]
  },
  {
   "cell_type": "code",
   "execution_count": 330,
   "metadata": {},
   "outputs": [
    {
     "data": {
      "text/plain": [
       "<torch._C.Generator at 0x1559df3e890>"
      ]
     },
     "execution_count": 330,
     "metadata": {},
     "output_type": "execute_result"
    }
   ],
   "source": [
    "# Pick a manual seed for randomization\n",
    "torch.manual_seed(41)"
   ]
  },
  {
   "cell_type": "code",
   "execution_count": 331,
   "metadata": {},
   "outputs": [],
   "source": [
    "# Define location of data\n",
    "url = 'https://gist.githubusercontent.com/netj/8836201/raw/6f9306ad21398ea43cba4f7d537619d0e07d5ae3/iris.csv'"
   ]
  },
  {
   "cell_type": "code",
   "execution_count": 332,
   "metadata": {},
   "outputs": [],
   "source": [
    "my_df = load_data.download_data(url)"
   ]
  },
  {
   "cell_type": "code",
   "execution_count": 333,
   "metadata": {},
   "outputs": [],
   "source": [
    "# Split data into train, test, and validate\n",
    "train, validate, test = load_data.split_data(my_df)"
   ]
  },
  {
   "cell_type": "code",
   "execution_count": 334,
   "metadata": {},
   "outputs": [],
   "source": [
    "batch_size = 5"
   ]
  },
  {
   "cell_type": "code",
   "execution_count": 335,
   "metadata": {},
   "outputs": [
    {
     "name": "stderr",
     "output_type": "stream",
     "text": [
      "C:\\Users\\Caleb Vourazeris\\Documents\\Code\\Python\\spaceX\\neural_network-project\\neural_network\\load_data.py:25: FutureWarning: Downcasting behavior in `replace` is deprecated and will be removed in a future version. To retain the old behavior, explicitly call `result.infer_objects(copy=False)`. To opt-in to the future behavior, set `pd.set_option('future.no_silent_downcasting', True)`\n",
      "  dataframe['variety'] = dataframe['variety'].replace('Virginica', 2)\n",
      "C:\\Users\\Caleb Vourazeris\\Documents\\Code\\Python\\spaceX\\neural_network-project\\neural_network\\load_data.py:25: FutureWarning: Downcasting behavior in `replace` is deprecated and will be removed in a future version. To retain the old behavior, explicitly call `result.infer_objects(copy=False)`. To opt-in to the future behavior, set `pd.set_option('future.no_silent_downcasting', True)`\n",
      "  dataframe['variety'] = dataframe['variety'].replace('Virginica', 2)\n",
      "C:\\Users\\Caleb Vourazeris\\Documents\\Code\\Python\\spaceX\\neural_network-project\\neural_network\\load_data.py:25: FutureWarning: Downcasting behavior in `replace` is deprecated and will be removed in a future version. To retain the old behavior, explicitly call `result.infer_objects(copy=False)`. To opt-in to the future behavior, set `pd.set_option('future.no_silent_downcasting', True)`\n",
      "  dataframe['variety'] = dataframe['variety'].replace('Virginica', 2)\n"
     ]
    }
   ],
   "source": [
    "# Create Training and testing dataset\n",
    "train_dataloader = load_data.create_dataloader(train, batch_size)\n",
    "validate_dataloader = load_data.create_dataloader(validate, batch_size)\n",
    "test_dataloader = load_data.create_dataloader(test, batch_size)"
   ]
  },
  {
   "cell_type": "code",
   "execution_count": null,
   "metadata": {},
   "outputs": [],
   "source": [
    "# Set the criterion of model to measure the error, how far off the predictions are from the data\n",
    "criterion = nn.CrossEntropyLoss()"
   ]
  },
  {
   "cell_type": "code",
   "execution_count": 337,
   "metadata": {},
   "outputs": [],
   "source": [
    "num_epochs = 100"
   ]
  },
  {
   "cell_type": "code",
   "execution_count": 338,
   "metadata": {},
   "outputs": [
    {
     "name": "stdout",
     "output_type": "stream",
     "text": [
      "Epoch: 0 Training Loss: 1.1205674231052398 Validation Loss: 1.119884967803955\n",
      "Epoch: 1 Training Loss: 1.1038277983665465 Validation Loss: 1.1055928468704224\n",
      "Epoch: 2 Training Loss: 1.0912112712860107 Validation Loss: 1.0952643156051636\n",
      "Epoch: 3 Training Loss: 1.08059965968132 Validation Loss: 1.0871214866638184\n",
      "Epoch: 4 Training Loss: 1.0695654451847076 Validation Loss: 1.0839051008224487\n",
      "Epoch: 5 Training Loss: 1.0567214131355285 Validation Loss: 1.0790843963623047\n",
      "Epoch: 6 Training Loss: 1.0439676761627197 Validation Loss: 1.0722037553787231\n",
      "Epoch: 7 Training Loss: 1.0313280045986175 Validation Loss: 1.0614632368087769\n",
      "Epoch: 8 Training Loss: 1.0169638127088547 Validation Loss: 1.0482252836227417\n",
      "Epoch: 9 Training Loss: 1.000525838136673 Validation Loss: 1.0324797630310059\n",
      "Epoch: 10 Training Loss: 0.9815262734889985 Validation Loss: 1.0130561590194702\n",
      "Epoch: 11 Training Loss: 0.9596579045057296 Validation Loss: 0.989059567451477\n",
      "Epoch: 12 Training Loss: 0.9350692510604859 Validation Loss: 0.9633647203445435\n",
      "Epoch: 13 Training Loss: 0.9077887177467346 Validation Loss: 0.9340460300445557\n",
      "Epoch: 14 Training Loss: 0.8781586736440659 Validation Loss: 0.9026364088058472\n",
      "Epoch: 15 Training Loss: 0.8470046430826187 Validation Loss: 0.8678701519966125\n",
      "Epoch: 16 Training Loss: 0.8152574688196182 Validation Loss: 0.8306958079338074\n",
      "Epoch: 17 Training Loss: 0.7833908587694168 Validation Loss: 0.7986752390861511\n",
      "Epoch: 18 Training Loss: 0.752689853310585 Validation Loss: 0.7659199833869934\n",
      "Epoch: 19 Training Loss: 0.7206855207681656 Validation Loss: 0.7338083982467651\n",
      "Epoch: 20 Training Loss: 0.6896978884935379 Validation Loss: 0.6988613605499268\n",
      "Epoch: 21 Training Loss: 0.6569689363241196 Validation Loss: 0.6610105633735657\n",
      "Epoch: 22 Training Loss: 0.6207873344421386 Validation Loss: 0.6109914183616638\n",
      "Epoch: 23 Training Loss: 0.5830450341105461 Validation Loss: 0.5673242807388306\n",
      "Epoch: 24 Training Loss: 0.5467719748616219 Validation Loss: 0.5259264707565308\n",
      "Epoch: 25 Training Loss: 0.5115823894739151 Validation Loss: 0.4894799590110779\n",
      "Epoch: 26 Training Loss: 0.47882224768400194 Validation Loss: 0.4574640393257141\n",
      "Epoch: 27 Training Loss: 0.4486644573509693 Validation Loss: 0.42980003356933594\n",
      "Epoch: 28 Training Loss: 0.42144070863723754 Validation Loss: 0.4044734835624695\n",
      "Epoch: 29 Training Loss: 0.3959611013531685 Validation Loss: 0.3825216293334961\n",
      "Epoch: 30 Training Loss: 0.3724947117269039 Validation Loss: 0.36148184537887573\n",
      "Epoch: 31 Training Loss: 0.34927434735000135 Validation Loss: 0.34218597412109375\n",
      "Epoch: 32 Training Loss: 0.3279817469418049 Validation Loss: 0.327968031167984\n",
      "Epoch: 33 Training Loss: 0.3090276703238487 Validation Loss: 0.3154985010623932\n",
      "Epoch: 34 Training Loss: 0.29153736755251886 Validation Loss: 0.3049790859222412\n",
      "Epoch: 35 Training Loss: 0.27579430490732193 Validation Loss: 0.2943258583545685\n",
      "Epoch: 36 Training Loss: 0.26089739315211774 Validation Loss: 0.2863808274269104\n",
      "Epoch: 37 Training Loss: 0.24736355300992727 Validation Loss: 0.2772562503814697\n",
      "Epoch: 38 Training Loss: 0.2343519326299429 Validation Loss: 0.2707163691520691\n",
      "Epoch: 39 Training Loss: 0.2221360869705677 Validation Loss: 0.26346176862716675\n",
      "Epoch: 40 Training Loss: 0.21060832887887954 Validation Loss: 0.25716549158096313\n",
      "Epoch: 41 Training Loss: 0.1996567076072097 Validation Loss: 0.24981501698493958\n",
      "Epoch: 42 Training Loss: 0.1892586089670658 Validation Loss: 0.24380183219909668\n",
      "Epoch: 43 Training Loss: 0.17921071480959655 Validation Loss: 0.23691970109939575\n",
      "Epoch: 44 Training Loss: 0.16981299351900817 Validation Loss: 0.2302078902721405\n",
      "Epoch: 45 Training Loss: 0.1610457669943571 Validation Loss: 0.22341929376125336\n",
      "Epoch: 46 Training Loss: 0.1526336383074522 Validation Loss: 0.21798691153526306\n",
      "Epoch: 47 Training Loss: 0.14491992797702552 Validation Loss: 0.21262887120246887\n",
      "Epoch: 48 Training Loss: 0.13777278307825327 Validation Loss: 0.20804104208946228\n",
      "Epoch: 49 Training Loss: 0.1312026498839259 Validation Loss: 0.20351779460906982\n",
      "Epoch: 50 Training Loss: 0.12518651578575374 Validation Loss: 0.19957837462425232\n",
      "Epoch: 51 Training Loss: 0.11980177965015174 Validation Loss: 0.1955571323633194\n",
      "Epoch: 52 Training Loss: 0.1148654505610466 Validation Loss: 0.19175051152706146\n",
      "Epoch: 53 Training Loss: 0.11043110620230437 Validation Loss: 0.1880788803100586\n",
      "Epoch: 54 Training Loss: 0.1063471285160631 Validation Loss: 0.18473178148269653\n",
      "Epoch: 55 Training Loss: 0.10265518920496106 Validation Loss: 0.1813242882490158\n",
      "Epoch: 56 Training Loss: 0.09923249250277877 Validation Loss: 0.17808516323566437\n",
      "Epoch: 57 Training Loss: 0.0960889081005007 Validation Loss: 0.17494723200798035\n",
      "Epoch: 58 Training Loss: 0.09317300030961632 Validation Loss: 0.17198950052261353\n",
      "Epoch: 59 Training Loss: 0.09048443054780364 Validation Loss: 0.1691143810749054\n",
      "Epoch: 60 Training Loss: 0.08795403111726045 Validation Loss: 0.16638071835041046\n",
      "Epoch: 61 Training Loss: 0.0856437941081822 Validation Loss: 0.16369640827178955\n",
      "Epoch: 62 Training Loss: 0.08346857228316366 Validation Loss: 0.16115930676460266\n",
      "Epoch: 63 Training Loss: 0.08144896305166185 Validation Loss: 0.15869751572608948\n",
      "Epoch: 64 Training Loss: 0.0795750617980957 Validation Loss: 0.1563512682914734\n",
      "Epoch: 65 Training Loss: 0.07777534774504602 Validation Loss: 0.15414081513881683\n",
      "Epoch: 66 Training Loss: 0.07613487541675568 Validation Loss: 0.15193000435829163\n",
      "Epoch: 67 Training Loss: 0.07458859351463616 Validation Loss: 0.14982569217681885\n",
      "Epoch: 68 Training Loss: 0.07309830370359123 Validation Loss: 0.14781543612480164\n",
      "Epoch: 69 Training Loss: 0.07174730803817511 Validation Loss: 0.14582550525665283\n",
      "Epoch: 70 Training Loss: 0.07043084935285152 Validation Loss: 0.14395561814308167\n",
      "Epoch: 71 Training Loss: 0.06918968160171061 Validation Loss: 0.14211711287498474\n",
      "Epoch: 72 Training Loss: 0.06804614439606667 Validation Loss: 0.14033152163028717\n",
      "Epoch: 73 Training Loss: 0.0669326031813398 Validation Loss: 0.138623908162117\n",
      "Epoch: 74 Training Loss: 0.0658860765164718 Validation Loss: 0.13694895803928375\n",
      "Epoch: 75 Training Loss: 0.06489308958407491 Validation Loss: 0.1353318989276886\n",
      "Epoch: 76 Training Loss: 0.06394827810581774 Validation Loss: 0.13377033174037933\n",
      "Epoch: 77 Training Loss: 0.06306392524857074 Validation Loss: 0.13236355781555176\n",
      "Epoch: 78 Training Loss: 0.062201619939878584 Validation Loss: 0.13087855279445648\n",
      "Epoch: 79 Training Loss: 0.06138838683255017 Validation Loss: 0.12946806848049164\n",
      "Epoch: 80 Training Loss: 0.06060991119593382 Validation Loss: 0.12808501720428467\n",
      "Epoch: 81 Training Loss: 0.059866485698148605 Validation Loss: 0.126740962266922\n",
      "Epoch: 82 Training Loss: 0.0591554120182991 Validation Loss: 0.12543094158172607\n",
      "Epoch: 83 Training Loss: 0.05847478024661541 Validation Loss: 0.12415347993373871\n",
      "Epoch: 84 Training Loss: 0.05782257276587188 Validation Loss: 0.12290836870670319\n",
      "Epoch: 85 Training Loss: 0.05719720204360783 Validation Loss: 0.12169383466243744\n",
      "Epoch: 86 Training Loss: 0.05659720750991255 Validation Loss: 0.1205073744058609\n",
      "Epoch: 87 Training Loss: 0.05602067923173308 Validation Loss: 0.11934977024793625\n",
      "Epoch: 88 Training Loss: 0.05546680032275617 Validation Loss: 0.11821861565113068\n",
      "Epoch: 89 Training Loss: 0.05493395640514791 Validation Loss: 0.11711329221725464\n",
      "Epoch: 90 Training Loss: 0.05442118521314114 Validation Loss: 0.11603234708309174\n",
      "Epoch: 91 Training Loss: 0.053926837211474773 Validation Loss: 0.11506025493144989\n",
      "Epoch: 92 Training Loss: 0.053453145641833545 Validation Loss: 0.1140061467885971\n",
      "Epoch: 93 Training Loss: 0.052993667754344644 Validation Loss: 0.11299806833267212\n",
      "Epoch: 94 Training Loss: 0.05255212130723521 Validation Loss: 0.11201260983943939\n",
      "Epoch: 95 Training Loss: 0.052125030907336625 Validation Loss: 0.11104556173086166\n",
      "Epoch: 96 Training Loss: 0.05171256959438324 Validation Loss: 0.11009814590215683\n",
      "Epoch: 97 Training Loss: 0.05131379851372912 Validation Loss: 0.10916891694068909\n",
      "Epoch: 98 Training Loss: 0.0509279957623221 Validation Loss: 0.10825792700052261\n",
      "Epoch: 99 Training Loss: 0.05055472077801824 Validation Loss: 0.10736387223005295\n",
      "Epoch: 0 Training Loss: 1.1719659656286239 Validation Loss: 1.1016523838043213\n",
      "Epoch: 1 Training Loss: 1.117808970808983 Validation Loss: 1.0550079345703125\n",
      "Epoch: 2 Training Loss: 1.0763189435005187 Validation Loss: 1.0151293277740479\n",
      "Epoch: 3 Training Loss: 1.0451469749212265 Validation Loss: 0.9779760837554932\n",
      "Epoch: 4 Training Loss: 1.016260740160942 Validation Loss: 0.9360436201095581\n",
      "Epoch: 5 Training Loss: 0.9869726002216339 Validation Loss: 0.8923244476318359\n",
      "Epoch: 6 Training Loss: 0.9580947011709213 Validation Loss: 0.8500250577926636\n",
      "Epoch: 7 Training Loss: 0.9299746513366699 Validation Loss: 0.8124491572380066\n",
      "Epoch: 8 Training Loss: 0.9020551562309265 Validation Loss: 0.7751250267028809\n",
      "Epoch: 9 Training Loss: 0.8742017030715943 Validation Loss: 0.7383005023002625\n",
      "Epoch: 10 Training Loss: 0.8455306142568588 Validation Loss: 0.702194333076477\n",
      "Epoch: 11 Training Loss: 0.8160920351743698 Validation Loss: 0.6664354801177979\n",
      "Epoch: 12 Training Loss: 0.7852247714996338 Validation Loss: 0.6310617923736572\n",
      "Epoch: 13 Training Loss: 0.7531049966812133 Validation Loss: 0.5967485904693604\n",
      "Epoch: 14 Training Loss: 0.7197323098778725 Validation Loss: 0.563254177570343\n",
      "Epoch: 15 Training Loss: 0.686159648746252 Validation Loss: 0.5313828587532043\n",
      "Epoch: 16 Training Loss: 0.6534357145428658 Validation Loss: 0.5016449689865112\n",
      "Epoch: 17 Training Loss: 0.6227878555655479 Validation Loss: 0.47446316480636597\n",
      "Epoch: 18 Training Loss: 0.5947694443166256 Validation Loss: 0.45032691955566406\n",
      "Epoch: 19 Training Loss: 0.5697680689394474 Validation Loss: 0.42851224541664124\n",
      "Epoch: 20 Training Loss: 0.5476022310554981 Validation Loss: 0.40931200981140137\n",
      "Epoch: 21 Training Loss: 0.527990447729826 Validation Loss: 0.392253577709198\n",
      "Epoch: 22 Training Loss: 0.5105489678680897 Validation Loss: 0.377193421125412\n",
      "Epoch: 23 Training Loss: 0.49509724527597426 Validation Loss: 0.3632989227771759\n",
      "Epoch: 24 Training Loss: 0.48100803084671495 Validation Loss: 0.3497192859649658\n",
      "Epoch: 25 Training Loss: 0.46854775846004487 Validation Loss: 0.33854997158050537\n",
      "Epoch: 26 Training Loss: 0.4567196022719145 Validation Loss: 0.3289474844932556\n",
      "Epoch: 27 Training Loss: 0.44584112502634526 Validation Loss: 0.3200308680534363\n",
      "Epoch: 28 Training Loss: 0.4355043340474367 Validation Loss: 0.31184232234954834\n",
      "Epoch: 29 Training Loss: 0.4258684838190675 Validation Loss: 0.30387258529663086\n",
      "Epoch: 30 Training Loss: 0.4163670387119055 Validation Loss: 0.2963298559188843\n",
      "Epoch: 31 Training Loss: 0.407002655044198 Validation Loss: 0.2890387773513794\n",
      "Epoch: 32 Training Loss: 0.39753253404051064 Validation Loss: 0.28138428926467896\n",
      "Epoch: 33 Training Loss: 0.38766782600432637 Validation Loss: 0.273576021194458\n",
      "Epoch: 34 Training Loss: 0.37733411891385915 Validation Loss: 0.2651945650577545\n",
      "Epoch: 35 Training Loss: 0.3667721885256469 Validation Loss: 0.25674155354499817\n",
      "Epoch: 36 Training Loss: 0.35610075760632753 Validation Loss: 0.24807414412498474\n",
      "Epoch: 37 Training Loss: 0.34598444374278187 Validation Loss: 0.23993141949176788\n",
      "Epoch: 38 Training Loss: 0.33590271044522524 Validation Loss: 0.2331852912902832\n",
      "Epoch: 39 Training Loss: 0.32626998173072935 Validation Loss: 0.22659048438072205\n",
      "Epoch: 40 Training Loss: 0.3169203497469425 Validation Loss: 0.2203402817249298\n",
      "Epoch: 41 Training Loss: 0.30788958016782997 Validation Loss: 0.21431389451026917\n",
      "Epoch: 42 Training Loss: 0.29908490031957624 Validation Loss: 0.20847958326339722\n",
      "Epoch: 43 Training Loss: 0.29074949892237784 Validation Loss: 0.20272167026996613\n",
      "Epoch: 44 Training Loss: 0.2825202703475952 Validation Loss: 0.1972854882478714\n",
      "Epoch: 45 Training Loss: 0.27462273547425864 Validation Loss: 0.19198869168758392\n",
      "Epoch: 46 Training Loss: 0.26707651941105726 Validation Loss: 0.1868380457162857\n",
      "Epoch: 47 Training Loss: 0.2597724599763751 Validation Loss: 0.18214380741119385\n",
      "Epoch: 48 Training Loss: 0.2526869459077716 Validation Loss: 0.17764867842197418\n",
      "Epoch: 49 Training Loss: 0.24595967214554548 Validation Loss: 0.17300017178058624\n",
      "Epoch: 50 Training Loss: 0.2393934120424092 Validation Loss: 0.16879451274871826\n",
      "Epoch: 51 Training Loss: 0.23309157947078346 Validation Loss: 0.16454699635505676\n",
      "Epoch: 52 Training Loss: 0.22703009443357586 Validation Loss: 0.16058918833732605\n",
      "Epoch: 53 Training Loss: 0.2211937764659524 Validation Loss: 0.15667790174484253\n",
      "Epoch: 54 Training Loss: 0.2155468168668449 Validation Loss: 0.15291577577590942\n",
      "Epoch: 55 Training Loss: 0.21009395280852913 Validation Loss: 0.14923985302448273\n",
      "Epoch: 56 Training Loss: 0.20481838593259455 Validation Loss: 0.14562711119651794\n",
      "Epoch: 57 Training Loss: 0.19968757792375982 Validation Loss: 0.14208991825580597\n",
      "Epoch: 58 Training Loss: 0.194657281646505 Validation Loss: 0.13864082098007202\n",
      "Epoch: 59 Training Loss: 0.18974977037869395 Validation Loss: 0.13499236106872559\n",
      "Epoch: 60 Training Loss: 0.18478968413546681 Validation Loss: 0.1314251720905304\n",
      "Epoch: 61 Training Loss: 0.17990078781731428 Validation Loss: 0.12744978070259094\n",
      "Epoch: 62 Training Loss: 0.17485857093706728 Validation Loss: 0.1236741840839386\n",
      "Epoch: 63 Training Loss: 0.16997634945437312 Validation Loss: 0.11966204643249512\n",
      "Epoch: 64 Training Loss: 0.16515607652254402 Validation Loss: 0.11548266559839249\n",
      "Epoch: 65 Training Loss: 0.1601545497775078 Validation Loss: 0.11105726659297943\n",
      "Epoch: 66 Training Loss: 0.1554778072051704 Validation Loss: 0.10725328326225281\n",
      "Epoch: 67 Training Loss: 0.15127802598290147 Validation Loss: 0.1043640673160553\n",
      "Epoch: 68 Training Loss: 0.1473200052510947 Validation Loss: 0.10155000537633896\n",
      "Epoch: 69 Training Loss: 0.14358227266930043 Validation Loss: 0.09880977869033813\n",
      "Epoch: 70 Training Loss: 0.14007741934619844 Validation Loss: 0.0962311401963234\n",
      "Epoch: 71 Training Loss: 0.13677116432227193 Validation Loss: 0.0937778651714325\n",
      "Epoch: 72 Training Loss: 0.13365514152683317 Validation Loss: 0.09139885008335114\n",
      "Epoch: 73 Training Loss: 0.13071724656037986 Validation Loss: 0.08915665745735168\n",
      "Epoch: 74 Training Loss: 0.12793456828221678 Validation Loss: 0.08699715882539749\n",
      "Epoch: 75 Training Loss: 0.12529366808012127 Validation Loss: 0.08493655920028687\n",
      "Epoch: 76 Training Loss: 0.12277853391133249 Validation Loss: 0.08295401930809021\n",
      "Epoch: 77 Training Loss: 0.12038283972069622 Validation Loss: 0.08104577660560608\n",
      "Epoch: 78 Training Loss: 0.11811582357622682 Validation Loss: 0.07927753031253815\n",
      "Epoch: 79 Training Loss: 0.11595511548221112 Validation Loss: 0.0775386244058609\n",
      "Epoch: 80 Training Loss: 0.1138946951366961 Validation Loss: 0.07589378952980042\n",
      "Epoch: 81 Training Loss: 0.11192061053588986 Validation Loss: 0.07431886345148087\n",
      "Epoch: 82 Training Loss: 0.1100351840723306 Validation Loss: 0.0728101134300232\n",
      "Epoch: 83 Training Loss: 0.10822883010841906 Validation Loss: 0.0713585764169693\n",
      "Epoch: 84 Training Loss: 0.10649839220568538 Validation Loss: 0.06996102631092072\n",
      "Epoch: 85 Training Loss: 0.10484031471423805 Validation Loss: 0.06862536072731018\n",
      "Epoch: 86 Training Loss: 0.10324724384117871 Validation Loss: 0.0673411414027214\n",
      "Epoch: 87 Training Loss: 0.10171787843573839 Validation Loss: 0.06610573828220367\n",
      "Epoch: 88 Training Loss: 0.10024746519047767 Validation Loss: 0.06491416692733765\n",
      "Epoch: 89 Training Loss: 0.09883246379904449 Validation Loss: 0.06376323103904724\n",
      "Epoch: 90 Training Loss: 0.09747212177608162 Validation Loss: 0.0626600980758667\n",
      "Epoch: 91 Training Loss: 0.09615958051290363 Validation Loss: 0.06159435957670212\n",
      "Epoch: 92 Training Loss: 0.09489460426848381 Validation Loss: 0.060563113540410995\n",
      "Epoch: 93 Training Loss: 0.09367584383580833 Validation Loss: 0.05957289785146713\n",
      "Epoch: 94 Training Loss: 0.09249754699412734 Validation Loss: 0.058614592999219894\n",
      "Epoch: 95 Training Loss: 0.0913595907157287 Validation Loss: 0.05768539011478424\n",
      "Epoch: 96 Training Loss: 0.09026124556548894 Validation Loss: 0.0567920058965683\n",
      "Epoch: 97 Training Loss: 0.0891973647288978 Validation Loss: 0.055925846099853516\n",
      "Epoch: 98 Training Loss: 0.08816767593380063 Validation Loss: 0.055084746330976486\n",
      "Epoch: 99 Training Loss: 0.08717268167529255 Validation Loss: 0.0542733296751976\n",
      "Epoch: 0 Training Loss: 1.2667595744132996 Validation Loss: 1.083399772644043\n",
      "Epoch: 1 Training Loss: 1.1535169005393981 Validation Loss: 1.0280406475067139\n",
      "Epoch: 2 Training Loss: 1.0886913925409316 Validation Loss: 1.0015069246292114\n",
      "Epoch: 3 Training Loss: 1.0489888906478881 Validation Loss: 0.9863026142120361\n",
      "Epoch: 4 Training Loss: 1.0205325394868852 Validation Loss: 0.9745783805847168\n",
      "Epoch: 5 Training Loss: 0.9972254663705826 Validation Loss: 0.9621404409408569\n",
      "Epoch: 6 Training Loss: 0.975645226240158 Validation Loss: 0.9452204704284668\n",
      "Epoch: 7 Training Loss: 0.9489534646272659 Validation Loss: 0.9252004623413086\n",
      "Epoch: 8 Training Loss: 0.9218343317508697 Validation Loss: 0.9022942185401917\n",
      "Epoch: 9 Training Loss: 0.8975479692220688 Validation Loss: 0.8698126077651978\n",
      "Epoch: 10 Training Loss: 0.8707888036966324 Validation Loss: 0.8354774713516235\n",
      "Epoch: 11 Training Loss: 0.8415163636207581 Validation Loss: 0.7981947064399719\n",
      "Epoch: 12 Training Loss: 0.8099756956100463 Validation Loss: 0.7573145627975464\n",
      "Epoch: 13 Training Loss: 0.7762750595808029 Validation Loss: 0.7146848440170288\n",
      "Epoch: 14 Training Loss: 0.7412736892700196 Validation Loss: 0.671248733997345\n",
      "Epoch: 15 Training Loss: 0.7058526664972306 Validation Loss: 0.6285586953163147\n",
      "Epoch: 16 Training Loss: 0.6710789576172829 Validation Loss: 0.5876057147979736\n",
      "Epoch: 17 Training Loss: 0.6375495672225953 Validation Loss: 0.5511661767959595\n",
      "Epoch: 18 Training Loss: 0.60661641061306 Validation Loss: 0.5185518264770508\n",
      "Epoch: 19 Training Loss: 0.5784760221838952 Validation Loss: 0.48893022537231445\n",
      "Epoch: 20 Training Loss: 0.5526059538125991 Validation Loss: 0.46449893712997437\n",
      "Epoch: 21 Training Loss: 0.5294081717729568 Validation Loss: 0.441023051738739\n",
      "Epoch: 22 Training Loss: 0.5084063202142716 Validation Loss: 0.4216797351837158\n",
      "Epoch: 23 Training Loss: 0.48957052305340765 Validation Loss: 0.4036736488342285\n",
      "Epoch: 24 Training Loss: 0.47249768003821374 Validation Loss: 0.38838568329811096\n",
      "Epoch: 25 Training Loss: 0.4571032911539078 Validation Loss: 0.3749571740627289\n",
      "Epoch: 26 Training Loss: 0.4432134848088026 Validation Loss: 0.36304205656051636\n",
      "Epoch: 27 Training Loss: 0.43025017231702806 Validation Loss: 0.3528778553009033\n",
      "Epoch: 28 Training Loss: 0.41856408417224883 Validation Loss: 0.34356069564819336\n",
      "Epoch: 29 Training Loss: 0.4075698733329773 Validation Loss: 0.33553123474121094\n",
      "Epoch: 30 Training Loss: 0.3973880212754011 Validation Loss: 0.32782095670700073\n",
      "Epoch: 31 Training Loss: 0.38777868263423443 Validation Loss: 0.3210110664367676\n",
      "Epoch: 32 Training Loss: 0.37862927112728356 Validation Loss: 0.31481486558914185\n",
      "Epoch: 33 Training Loss: 0.36992451567202805 Validation Loss: 0.30914947390556335\n",
      "Epoch: 34 Training Loss: 0.3615866443142295 Validation Loss: 0.30383962392807007\n",
      "Epoch: 35 Training Loss: 0.3535363391041756 Validation Loss: 0.298905611038208\n",
      "Epoch: 36 Training Loss: 0.34573119040578604 Validation Loss: 0.29431354999542236\n",
      "Epoch: 37 Training Loss: 0.33813083209097383 Validation Loss: 0.28994306921958923\n",
      "Epoch: 38 Training Loss: 0.33073858115822075 Validation Loss: 0.28577640652656555\n",
      "Epoch: 39 Training Loss: 0.32350651919841766 Validation Loss: 0.2817934453487396\n",
      "Epoch: 40 Training Loss: 0.31642497908324 Validation Loss: 0.2779293656349182\n",
      "Epoch: 41 Training Loss: 0.3094881819561124 Validation Loss: 0.2742028534412384\n",
      "Epoch: 42 Training Loss: 0.302651029266417 Validation Loss: 0.27058395743370056\n",
      "Epoch: 43 Training Loss: 0.296006837207824 Validation Loss: 0.2670985162258148\n",
      "Epoch: 44 Training Loss: 0.2894197667017579 Validation Loss: 0.2637028694152832\n",
      "Epoch: 45 Training Loss: 0.2829817088320851 Validation Loss: 0.2603755593299866\n",
      "Epoch: 46 Training Loss: 0.27664546221494674 Validation Loss: 0.25711700320243835\n",
      "Epoch: 47 Training Loss: 0.27041195752099156 Validation Loss: 0.25392651557922363\n",
      "Epoch: 48 Training Loss: 0.26431053411215544 Validation Loss: 0.2508027255535126\n",
      "Epoch: 49 Training Loss: 0.2583179695531726 Validation Loss: 0.24774307012557983\n",
      "Epoch: 50 Training Loss: 0.2524398462846875 Validation Loss: 0.24471035599708557\n",
      "Epoch: 51 Training Loss: 0.246685157623142 Validation Loss: 0.2417125403881073\n",
      "Epoch: 52 Training Loss: 0.24105623811483384 Validation Loss: 0.23881477117538452\n",
      "Epoch: 53 Training Loss: 0.2354956061579287 Validation Loss: 0.23593533039093018\n",
      "Epoch: 54 Training Loss: 0.230092051345855 Validation Loss: 0.23307600617408752\n",
      "Epoch: 55 Training Loss: 0.22481320649385453 Validation Loss: 0.23028139770030975\n",
      "Epoch: 56 Training Loss: 0.219663401087746 Validation Loss: 0.22753503918647766\n",
      "Epoch: 57 Training Loss: 0.21463801180943848 Validation Loss: 0.22482362389564514\n",
      "Epoch: 58 Training Loss: 0.2097295355051756 Validation Loss: 0.22214677929878235\n",
      "Epoch: 59 Training Loss: 0.20493785049766303 Validation Loss: 0.21950513124465942\n",
      "Epoch: 60 Training Loss: 0.20026446329429745 Validation Loss: 0.21689552068710327\n",
      "Epoch: 61 Training Loss: 0.19571277662180364 Validation Loss: 0.21433816850185394\n",
      "Epoch: 62 Training Loss: 0.1912720606662333 Validation Loss: 0.21179822087287903\n",
      "Epoch: 63 Training Loss: 0.18695528632961214 Validation Loss: 0.20928698778152466\n",
      "Epoch: 64 Training Loss: 0.1827544757630676 Validation Loss: 0.2068084478378296\n",
      "Epoch: 65 Training Loss: 0.17866914784535765 Validation Loss: 0.2043619155883789\n",
      "Epoch: 66 Training Loss: 0.1746999382507056 Validation Loss: 0.20195378363132477\n",
      "Epoch: 67 Training Loss: 0.17084679147228599 Validation Loss: 0.19957973062992096\n",
      "Epoch: 68 Training Loss: 0.16710610501468182 Validation Loss: 0.19723807275295258\n",
      "Epoch: 69 Training Loss: 0.16347612775862216 Validation Loss: 0.19493278861045837\n",
      "Epoch: 70 Training Loss: 0.1599581425078213 Validation Loss: 0.19266295433044434\n",
      "Epoch: 71 Training Loss: 0.15655591790564358 Validation Loss: 0.19045323133468628\n",
      "Epoch: 72 Training Loss: 0.15326660024002195 Validation Loss: 0.18824869394302368\n",
      "Epoch: 73 Training Loss: 0.15007891030982137 Validation Loss: 0.18608346581459045\n",
      "Epoch: 74 Training Loss: 0.14700060500763357 Validation Loss: 0.18400028347969055\n",
      "Epoch: 75 Training Loss: 0.14402889073826372 Validation Loss: 0.18189385533332825\n",
      "Epoch: 76 Training Loss: 0.141141603467986 Validation Loss: 0.17987146973609924\n",
      "Epoch: 77 Training Loss: 0.1383630308555439 Validation Loss: 0.17784053087234497\n",
      "Epoch: 78 Training Loss: 0.135665317857638 Validation Loss: 0.17588984966278076\n",
      "Epoch: 79 Training Loss: 0.13306850499939174 Validation Loss: 0.1739303171634674\n",
      "Epoch: 80 Training Loss: 0.13054701457731427 Validation Loss: 0.17202934622764587\n",
      "Epoch: 81 Training Loss: 0.1281173497904092 Validation Loss: 0.17015932500362396\n",
      "Epoch: 82 Training Loss: 0.12576695575844496 Validation Loss: 0.16830886900424957\n",
      "Epoch: 83 Training Loss: 0.12348652645014227 Validation Loss: 0.16648386418819427\n",
      "Epoch: 84 Training Loss: 0.12127706569153815 Validation Loss: 0.1647372841835022\n",
      "Epoch: 85 Training Loss: 0.11914818149525672 Validation Loss: 0.16298915445804596\n",
      "Epoch: 86 Training Loss: 0.1170847499044612 Validation Loss: 0.16124939918518066\n",
      "Epoch: 87 Training Loss: 0.11508519512135536 Validation Loss: 0.15955662727355957\n",
      "Epoch: 88 Training Loss: 0.11315272587817163 Validation Loss: 0.15789145231246948\n",
      "Epoch: 89 Training Loss: 0.1112798077519983 Validation Loss: 0.1562725156545639\n",
      "Epoch: 90 Training Loss: 0.1094728118274361 Validation Loss: 0.15464982390403748\n",
      "Epoch: 91 Training Loss: 0.1077162871370092 Validation Loss: 0.1530703604221344\n",
      "Epoch: 92 Training Loss: 0.10602009987924248 Validation Loss: 0.1515125334262848\n",
      "Epoch: 93 Training Loss: 0.10437550996430218 Validation Loss: 0.1499808430671692\n",
      "Epoch: 94 Training Loss: 0.1027815371286124 Validation Loss: 0.14848929643630981\n",
      "Epoch: 95 Training Loss: 0.10124296480789781 Validation Loss: 0.14699554443359375\n",
      "Epoch: 96 Training Loss: 0.09974552192725242 Validation Loss: 0.14554214477539062\n",
      "Epoch: 97 Training Loss: 0.09829904173966497 Validation Loss: 0.14410898089408875\n",
      "Epoch: 98 Training Loss: 0.09689325313083827 Validation Loss: 0.14271500706672668\n",
      "Epoch: 99 Training Loss: 0.09553773677907884 Validation Loss: 0.141318216919899\n"
     ]
    }
   ],
   "source": [
    "num_models = 3\n",
    "\n",
    "train_losses_list = []\n",
    "validate_losses_list = []\n",
    "\n",
    "for i in range(num_models):\n",
    "    model = models.create_model()\n",
    "    optimizer = torch.optim.Adam(model.parameters(), lr=0.001)\n",
    "    model, train_losses, validate_losses = training_loop.train_model(model, train_dataloader, validate_dataloader, criterion, optimizer, num_epochs)\n",
    "    train_losses_list.append(train_losses)\n",
    "    validate_losses_list.append(validate_losses)"
   ]
  },
  {
   "cell_type": "code",
   "execution_count": 339,
   "metadata": {},
   "outputs": [
    {
     "name": "stderr",
     "output_type": "stream",
     "text": [
      "C:\\Users\\Caleb Vourazeris\\Documents\\Code\\Python\\spaceX\\neural_network-project\\neural_network\\graphs.py:7: UserWarning: No artists with labels found to put in legend.  Note that artists whose label start with an underscore are ignored when legend() is called with no argument.\n",
      "  plt.legend()\n"
     ]
    },
    {
     "data": {
      "image/png": "[encoded data removed]",
      "text/plain": [
       "<Figure size 640x480 with 1 Axes>"
      ]
     },
     "metadata": {},
     "output_type": "display_data"
    }
   ],
   "source": [
    "graphs.graph_loss(num_epochs, train_losses, validate_losses)"
   ]
  },
  {
   "cell_type": "code",
   "execution_count": 340,
   "metadata": {},
   "outputs": [],
   "source": [
    "correct, total = evaluate_model.test_model(model, test_dataloader)"
   ]
  },
  {
   "cell_type": "markdown",
   "metadata": {},
   "source": []
  },
  {
   "cell_type": "code",
   "execution_count": 341,
   "metadata": {},
   "outputs": [],
   "source": [
    "# Save our NN Model\n",
    "torch.save(model.state_dict(), 'simple_neural_network.pt')\n",
    "     "
   ]
  },
  {
   "cell_type": "code",
   "execution_count": 342,
   "metadata": {},
   "outputs": [
    {
     "data": {
      "text/plain": [
       "<All keys matched successfully>"
      ]
     },
     "execution_count": 342,
     "metadata": {},
     "output_type": "execute_result"
    }
   ],
   "source": [
    "# Load the Saved Model\n",
    "new_model = models.Model()\n",
    "new_model.load_state_dict(torch.load('simple_neural_network.pt'))"
   ]
  },
  {
   "cell_type": "code",
   "execution_count": 343,
   "metadata": {},
   "outputs": [
    {
     "data": {
      "text/plain": [
       "Model(\n",
       "  (fc1): Linear(in_features=4, out_features=8, bias=True)\n",
       "  (fc2): Linear(in_features=8, out_features=9, bias=True)\n",
       "  (out): Linear(in_features=9, out_features=3, bias=True)\n",
       ")"
      ]
     },
     "execution_count": 343,
     "metadata": {},
     "output_type": "execute_result"
    }
   ],
   "source": [
    "# Make sure it loaded correctly\n",
    "new_model.eval()"
   ]
  },
  {
   "cell_type": "code",
   "execution_count": null,
   "metadata": {},
   "outputs": [],
   "source": []
  }
 ],
 "metadata": {
  "kernelspec": {
   "display_name": "venv",
   "language": "python",
   "name": "python3"
  },
  "language_info": {
   "codemirror_mode": {
    "name": "ipython",
    "version": 3
   },
   "file_extension": ".py",
   "mimetype": "text/x-python",
   "name": "python",
   "nbconvert_exporter": "python",
   "pygments_lexer": "ipython3",
   "version": "3.13.1"
  }
 },
 "nbformat": 4,
 "nbformat_minor": 2
}
