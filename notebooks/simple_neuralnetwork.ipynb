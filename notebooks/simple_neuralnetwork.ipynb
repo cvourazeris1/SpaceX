{
 "cells": [
  {
   "cell_type": "code",
   "execution_count": 198,
   "metadata": {},
   "outputs": [
    {
     "data": {
      "text/plain": [
       "<module 'neural_network.evaluate_model' from 'C:\\\\Users\\\\Caleb Vourazeris\\\\Documents\\\\Code\\\\Python\\\\spaceX\\\\neural_network-project\\\\neural_network\\\\evaluate_model.py'>"
      ]
     },
     "execution_count": 198,
     "metadata": {},
     "output_type": "execute_result"
    }
   ],
   "source": [
    "from neural_network import graphs, load_data, models, training_loop, validation_loop, evaluate_model\n",
    "import torch\n",
    "import torch.nn as nn\n",
    "import torch.nn.functional as F\n",
    "import importlib\n",
    "import matplotlib.pyplot as plt\n",
    "\n",
    "\n",
    "importlib.reload(graphs)\n",
    "importlib.reload(load_data)\n",
    "importlib.reload(models)\n",
    "importlib.reload(training_loop)\n",
    "importlib.reload(validation_loop)\n",
    "importlib.reload(evaluate_model)\n",
    "\n"
   ]
  },
  {
   "cell_type": "code",
   "execution_count": 199,
   "metadata": {},
   "outputs": [
    {
     "data": {
      "text/plain": [
       "<torch._C.Generator at 0x21ff55ac7d0>"
      ]
     },
     "execution_count": 199,
     "metadata": {},
     "output_type": "execute_result"
    }
   ],
   "source": [
    "# Pick a manual seed for randomization\n",
    "torch.manual_seed(41)"
   ]
  },
  {
   "cell_type": "code",
   "execution_count": 200,
   "metadata": {},
   "outputs": [],
   "source": [
    "# Define location of data\n",
    "url = 'https://gist.githubusercontent.com/netj/8836201/raw/6f9306ad21398ea43cba4f7d537619d0e07d5ae3/iris.csv'"
   ]
  },
  {
   "cell_type": "code",
   "execution_count": 201,
   "metadata": {},
   "outputs": [],
   "source": [
    "my_df = load_data.download_data(url)"
   ]
  },
  {
   "cell_type": "code",
   "execution_count": 202,
   "metadata": {},
   "outputs": [],
   "source": [
    "# Split data into train, test, and validate\n",
    "train, validate, test = load_data.split_data(my_df)"
   ]
  },
  {
   "cell_type": "code",
   "execution_count": 203,
   "metadata": {},
   "outputs": [],
   "source": [
    "batch_size = 5"
   ]
  },
  {
   "cell_type": "code",
   "execution_count": 204,
   "metadata": {},
   "outputs": [],
   "source": [
    "# Create Training and testing dataset\n",
    "train_dataloader = load_data.create_dataloader(train, batch_size)\n",
    "validate_dataloader = load_data.create_dataloader(validate, batch_size)\n",
    "test_dataloader = load_data.create_dataloader(test, batch_size)"
   ]
  },
  {
   "cell_type": "code",
   "execution_count": 205,
   "metadata": {},
   "outputs": [],
   "source": [
    "# Set the criterion of model to measure the error, how far off the predictions are from the data\n",
    "criterion = nn.CrossEntropyLoss()"
   ]
  },
  {
   "cell_type": "code",
   "execution_count": 206,
   "metadata": {},
   "outputs": [],
   "source": [
    "num_epochs = 100"
   ]
  },
  {
   "cell_type": "code",
   "execution_count": 207,
   "metadata": {},
   "outputs": [
    {
     "name": "stderr",
     "output_type": "stream",
     "text": [
      "C:\\Users\\Caleb Vourazeris\\Documents\\Code\\Python\\spaceX\\neural_network-project\\neural_network\\models.py:27: UserWarning: Implicit dimension choice for softmax has been deprecated. Change the call to include dim=X as an argument.\n",
      "  x = F.softmax(self.out(x))              # softmax on final layer to get probabilities\n"
     ]
    },
    {
     "name": "stdout",
     "output_type": "stream",
     "text": [
      "Epoch: 0 Training Loss: 1.1007485449314118 Validation Loss: 1.1000572443008423\n",
      "Epoch: 1 Training Loss: 1.0883431553840637 Validation Loss: 1.0974184274673462\n",
      "Epoch: 2 Training Loss: 1.0822317898273468 Validation Loss: 1.0935255289077759\n",
      "Epoch: 3 Training Loss: 1.0748948574066162 Validation Loss: 1.0885602235794067\n",
      "Epoch: 4 Training Loss: 1.0665894329547883 Validation Loss: 1.0824342966079712\n",
      "Epoch: 5 Training Loss: 1.0575004160404204 Validation Loss: 1.0753034353256226\n",
      "Epoch: 6 Training Loss: 1.0476234614849091 Validation Loss: 1.0668847560882568\n",
      "Epoch: 7 Training Loss: 1.0373744070529938 Validation Loss: 1.0578596591949463\n",
      "Epoch: 8 Training Loss: 1.026616245508194 Validation Loss: 1.04852294921875\n",
      "Epoch: 9 Training Loss: 1.0154906809329987 Validation Loss: 1.038933277130127\n",
      "Epoch: 10 Training Loss: 1.0049095422029495 Validation Loss: 1.0297935009002686\n",
      "Epoch: 11 Training Loss: 0.9942628562450408 Validation Loss: 1.0198042392730713\n",
      "Epoch: 12 Training Loss: 0.9828935235738754 Validation Loss: 1.008021593093872\n",
      "Epoch: 13 Training Loss: 0.9700109302997589 Validation Loss: 0.9929506182670593\n",
      "Epoch: 14 Training Loss: 0.9549564301967621 Validation Loss: 0.9733633399009705\n",
      "Epoch: 15 Training Loss: 0.937049925327301 Validation Loss: 0.9482397437095642\n",
      "Epoch: 16 Training Loss: 0.915796434879303 Validation Loss: 0.9175000190734863\n",
      "Epoch: 17 Training Loss: 0.8917773634195327 Validation Loss: 0.8836720585823059\n",
      "Epoch: 18 Training Loss: 0.8668920040130615 Validation Loss: 0.8514437675476074\n",
      "Epoch: 19 Training Loss: 0.8430442988872529 Validation Loss: 0.8248435854911804\n",
      "Epoch: 20 Training Loss: 0.8216130048036575 Validation Loss: 0.8035424947738647\n",
      "Epoch: 21 Training Loss: 0.8021020650863647 Validation Loss: 0.7880468964576721\n",
      "Epoch: 22 Training Loss: 0.7848904728889465 Validation Loss: 0.7754902839660645\n",
      "Epoch: 23 Training Loss: 0.769319725036621 Validation Loss: 0.7649778127670288\n",
      "Epoch: 24 Training Loss: 0.7553379356861114 Validation Loss: 0.7564051747322083\n",
      "Epoch: 25 Training Loss: 0.7425888121128082 Validation Loss: 0.7487581372261047\n",
      "Epoch: 26 Training Loss: 0.7310170739889145 Validation Loss: 0.7421653270721436\n",
      "Epoch: 27 Training Loss: 0.7203614085912704 Validation Loss: 0.7363378405570984\n",
      "Epoch: 28 Training Loss: 0.7105529993772507 Validation Loss: 0.7310904264450073\n",
      "Epoch: 29 Training Loss: 0.7014733523130416 Validation Loss: 0.7262110710144043\n",
      "Epoch: 30 Training Loss: 0.693106609582901 Validation Loss: 0.7218368053436279\n",
      "Epoch: 31 Training Loss: 0.6853161811828613 Validation Loss: 0.7177294492721558\n",
      "Epoch: 32 Training Loss: 0.6780879378318787 Validation Loss: 0.7138692736625671\n",
      "Epoch: 33 Training Loss: 0.6713976472616195 Validation Loss: 0.7102156281471252\n",
      "Epoch: 34 Training Loss: 0.6652093052864074 Validation Loss: 0.7067729830741882\n",
      "Epoch: 35 Training Loss: 0.659011447429657 Validation Loss: 0.7025306224822998\n",
      "Epoch: 36 Training Loss: 0.6526533752679825 Validation Loss: 0.6982680559158325\n",
      "Epoch: 37 Training Loss: 0.6466297805309296 Validation Loss: 0.6945995092391968\n",
      "Epoch: 38 Training Loss: 0.641097629070282 Validation Loss: 0.6908983588218689\n",
      "Epoch: 39 Training Loss: 0.6359786659479141 Validation Loss: 0.6874183416366577\n",
      "Epoch: 40 Training Loss: 0.6313180416822434 Validation Loss: 0.6840763092041016\n",
      "Epoch: 41 Training Loss: 0.6270905196666717 Validation Loss: 0.6808653473854065\n",
      "Epoch: 42 Training Loss: 0.6232600182294845 Validation Loss: 0.6778448224067688\n",
      "Epoch: 43 Training Loss: 0.6198047578334809 Validation Loss: 0.6749757528305054\n",
      "Epoch: 44 Training Loss: 0.6166801601648331 Validation Loss: 0.6722592115402222\n",
      "Epoch: 45 Training Loss: 0.613854992389679 Validation Loss: 0.6696789264678955\n",
      "Epoch: 46 Training Loss: 0.6112961083650589 Validation Loss: 0.6672293543815613\n",
      "Epoch: 47 Training Loss: 0.608976086974144 Validation Loss: 0.6648900508880615\n",
      "Epoch: 48 Training Loss: 0.6068647891283036 Validation Loss: 0.6626788973808289\n",
      "Epoch: 49 Training Loss: 0.6049453824758529 Validation Loss: 0.6605491042137146\n",
      "Epoch: 50 Training Loss: 0.6031858563423157 Validation Loss: 0.6585643887519836\n",
      "Epoch: 51 Training Loss: 0.6015879154205322 Validation Loss: 0.6565699577331543\n",
      "Epoch: 52 Training Loss: 0.6000896990299225 Validation Loss: 0.6548808813095093\n",
      "Epoch: 53 Training Loss: 0.5987509250640869 Validation Loss: 0.6531080007553101\n",
      "Epoch: 54 Training Loss: 0.5974994629621506 Validation Loss: 0.6514220237731934\n",
      "Epoch: 55 Training Loss: 0.5963328033685684 Validation Loss: 0.6498829126358032\n",
      "Epoch: 56 Training Loss: 0.5952566653490067 Validation Loss: 0.6484480500221252\n",
      "Epoch: 57 Training Loss: 0.5942690968513489 Validation Loss: 0.6469939947128296\n",
      "Epoch: 58 Training Loss: 0.5933427602052689 Validation Loss: 0.6455859541893005\n",
      "Epoch: 59 Training Loss: 0.5924676954746246 Validation Loss: 0.6443097591400146\n",
      "Epoch: 60 Training Loss: 0.5916546404361724 Validation Loss: 0.6431156992912292\n",
      "Epoch: 61 Training Loss: 0.5909014642238617 Validation Loss: 0.6419050097465515\n",
      "Epoch: 62 Training Loss: 0.590189877152443 Validation Loss: 0.6407219171524048\n",
      "Epoch: 63 Training Loss: 0.5895123988389969 Validation Loss: 0.6396490335464478\n",
      "Epoch: 64 Training Loss: 0.5888824343681336 Validation Loss: 0.6385922431945801\n",
      "Epoch: 65 Training Loss: 0.5882841110229492 Validation Loss: 0.6375901103019714\n",
      "Epoch: 66 Training Loss: 0.5877157717943191 Validation Loss: 0.6366711854934692\n",
      "Epoch: 67 Training Loss: 0.587191155552864 Validation Loss: 0.6356765031814575\n",
      "Epoch: 68 Training Loss: 0.586675563454628 Validation Loss: 0.634811282157898\n",
      "Epoch: 69 Training Loss: 0.5861979216337204 Validation Loss: 0.6339383721351624\n",
      "Epoch: 70 Training Loss: 0.5857403695583343 Validation Loss: 0.6330922842025757\n",
      "Epoch: 71 Training Loss: 0.5853034764528274 Validation Loss: 0.6322982311248779\n",
      "Epoch: 72 Training Loss: 0.5848885089159012 Validation Loss: 0.6315255165100098\n",
      "Epoch: 73 Training Loss: 0.5844917714595794 Validation Loss: 0.6307818293571472\n",
      "Epoch: 74 Training Loss: 0.584112799167633 Validation Loss: 0.630064845085144\n",
      "Epoch: 75 Training Loss: 0.5837506860494613 Validation Loss: 0.6293690800666809\n",
      "Epoch: 76 Training Loss: 0.5834030091762543 Validation Loss: 0.6286982297897339\n",
      "Epoch: 77 Training Loss: 0.5830662250518799 Validation Loss: 0.6280543208122253\n",
      "Epoch: 78 Training Loss: 0.5827497363090515 Validation Loss: 0.6274166107177734\n",
      "Epoch: 79 Training Loss: 0.5824417352676392 Validation Loss: 0.6268082857131958\n",
      "Epoch: 80 Training Loss: 0.5821471869945526 Validation Loss: 0.626218855381012\n",
      "Epoch: 81 Training Loss: 0.5818635791540145 Validation Loss: 0.6256430149078369\n",
      "Epoch: 82 Training Loss: 0.5815904289484024 Validation Loss: 0.6250847578048706\n",
      "Epoch: 83 Training Loss: 0.5813270717859268 Validation Loss: 0.624542236328125\n",
      "Epoch: 84 Training Loss: 0.58107308447361 Validation Loss: 0.6240149140357971\n",
      "Epoch: 85 Training Loss: 0.5808278471231461 Validation Loss: 0.6235021352767944\n",
      "Epoch: 86 Training Loss: 0.5805909484624863 Validation Loss: 0.6230033040046692\n",
      "Epoch: 87 Training Loss: 0.5803619086742401 Validation Loss: 0.6225178837776184\n",
      "Epoch: 88 Training Loss: 0.5801403909921646 Validation Loss: 0.6220446825027466\n",
      "Epoch: 89 Training Loss: 0.5799258857965469 Validation Loss: 0.6215839385986328\n",
      "Epoch: 90 Training Loss: 0.5797181606292725 Validation Loss: 0.6211346983909607\n",
      "Epoch: 91 Training Loss: 0.5795168220996857 Validation Loss: 0.6206966638565063\n",
      "Epoch: 92 Training Loss: 0.5793215245008468 Validation Loss: 0.6202691793441772\n",
      "Epoch: 93 Training Loss: 0.5791321039199829 Validation Loss: 0.6198516488075256\n",
      "Epoch: 94 Training Loss: 0.5789479076862335 Validation Loss: 0.6194440126419067\n",
      "Epoch: 95 Training Loss: 0.5787821352481842 Validation Loss: 0.6189611554145813\n",
      "Epoch: 96 Training Loss: 0.578595757484436 Validation Loss: 0.6186652779579163\n",
      "Epoch: 97 Training Loss: 0.5784265220165252 Validation Loss: 0.6182698607444763\n",
      "Epoch: 98 Training Loss: 0.5782635301351547 Validation Loss: 0.6178975105285645\n",
      "Epoch: 99 Training Loss: 0.5781028717756271 Validation Loss: 0.6175340414047241\n",
      "Epoch: 0 Training Loss: 1.114648413658142 Validation Loss: 1.0615984201431274\n",
      "Epoch: 1 Training Loss: 1.0921070724725723 Validation Loss: 1.0447745323181152\n",
      "Epoch: 2 Training Loss: 1.0711764335632323 Validation Loss: 1.0249313116073608\n",
      "Epoch: 3 Training Loss: 1.050034537911415 Validation Loss: 1.0014610290527344\n",
      "Epoch: 4 Training Loss: 1.0266980141401292 Validation Loss: 0.9699855446815491\n",
      "Epoch: 5 Training Loss: 0.9983954280614853 Validation Loss: 0.9325824975967407\n",
      "Epoch: 6 Training Loss: 0.9654737919569015 Validation Loss: 0.8950533866882324\n",
      "Epoch: 7 Training Loss: 0.9297478854656219 Validation Loss: 0.8590599298477173\n",
      "Epoch: 8 Training Loss: 0.893947172164917 Validation Loss: 0.8282999992370605\n",
      "Epoch: 9 Training Loss: 0.8608186662197113 Validation Loss: 0.804489016532898\n",
      "Epoch: 10 Training Loss: 0.8318913727998734 Validation Loss: 0.7889158129692078\n",
      "Epoch: 11 Training Loss: 0.8064790010452271 Validation Loss: 0.777855634689331\n",
      "Epoch: 12 Training Loss: 0.7841709911823272 Validation Loss: 0.769235372543335\n",
      "Epoch: 13 Training Loss: 0.7645599663257598 Validation Loss: 0.7623171806335449\n",
      "Epoch: 14 Training Loss: 0.7468335539102554 Validation Loss: 0.7558750510215759\n",
      "Epoch: 15 Training Loss: 0.7307031422853469 Validation Loss: 0.7506917715072632\n",
      "Epoch: 16 Training Loss: 0.7164247065782547 Validation Loss: 0.745744526386261\n",
      "Epoch: 17 Training Loss: 0.703445878624916 Validation Loss: 0.7413977980613708\n",
      "Epoch: 18 Training Loss: 0.6919327884912491 Validation Loss: 0.7372506856918335\n",
      "Epoch: 19 Training Loss: 0.6814922660589218 Validation Loss: 0.733658492565155\n",
      "Epoch: 20 Training Loss: 0.6721531718969345 Validation Loss: 0.7302900552749634\n",
      "Epoch: 21 Training Loss: 0.6639242053031922 Validation Loss: 0.7270891666412354\n",
      "Epoch: 22 Training Loss: 0.6565245777368546 Validation Loss: 0.7242279648780823\n",
      "Epoch: 23 Training Loss: 0.6500027805566788 Validation Loss: 0.7213327884674072\n",
      "Epoch: 24 Training Loss: 0.6441414803266525 Validation Loss: 0.7187466621398926\n",
      "Epoch: 25 Training Loss: 0.6389406740665435 Validation Loss: 0.7161960601806641\n",
      "Epoch: 26 Training Loss: 0.6342638313770295 Validation Loss: 0.7138697504997253\n",
      "Epoch: 27 Training Loss: 0.6300963819026947 Validation Loss: 0.7116090059280396\n",
      "Epoch: 28 Training Loss: 0.6263501584529877 Validation Loss: 0.709435760974884\n",
      "Epoch: 29 Training Loss: 0.6229630440473557 Validation Loss: 0.7074141502380371\n",
      "Epoch: 30 Training Loss: 0.6199217408895492 Validation Loss: 0.7054378986358643\n",
      "Epoch: 31 Training Loss: 0.6171747833490372 Validation Loss: 0.7035049200057983\n",
      "Epoch: 32 Training Loss: 0.6146806329488754 Validation Loss: 0.7016923427581787\n",
      "Epoch: 33 Training Loss: 0.612388801574707 Validation Loss: 0.7000398635864258\n",
      "Epoch: 34 Training Loss: 0.6103291541337967 Validation Loss: 0.6983351111412048\n",
      "Epoch: 35 Training Loss: 0.6084212571382522 Validation Loss: 0.696805477142334\n",
      "Epoch: 36 Training Loss: 0.606698551774025 Validation Loss: 0.6952438354492188\n",
      "Epoch: 37 Training Loss: 0.6050986826419831 Validation Loss: 0.6938196420669556\n",
      "Epoch: 38 Training Loss: 0.6035989135503769 Validation Loss: 0.6925029754638672\n",
      "Epoch: 39 Training Loss: 0.602250126004219 Validation Loss: 0.6911011338233948\n",
      "Epoch: 40 Training Loss: 0.6009914070367813 Validation Loss: 0.6898351311683655\n",
      "Epoch: 41 Training Loss: 0.5997911751270294 Validation Loss: 0.6886762380599976\n",
      "Epoch: 42 Training Loss: 0.5987099558115005 Validation Loss: 0.687463104724884\n",
      "Epoch: 43 Training Loss: 0.5976795464754104 Validation Loss: 0.6863825917243958\n",
      "Epoch: 44 Training Loss: 0.5967273771762848 Validation Loss: 0.6852850914001465\n",
      "Epoch: 45 Training Loss: 0.5958268195390701 Validation Loss: 0.6842913031578064\n",
      "Epoch: 46 Training Loss: 0.5949886977672577 Validation Loss: 0.6832886338233948\n",
      "Epoch: 47 Training Loss: 0.5941947609186172 Validation Loss: 0.6823113560676575\n",
      "Epoch: 48 Training Loss: 0.5934433311223983 Validation Loss: 0.6814221143722534\n",
      "Epoch: 49 Training Loss: 0.5927382469177246 Validation Loss: 0.6805249452590942\n",
      "Epoch: 50 Training Loss: 0.5920718222856521 Validation Loss: 0.6796978712081909\n",
      "Epoch: 51 Training Loss: 0.5914394974708557 Validation Loss: 0.6788965463638306\n",
      "Epoch: 52 Training Loss: 0.5908394455909729 Validation Loss: 0.6781184077262878\n",
      "Epoch: 53 Training Loss: 0.5902664273977279 Validation Loss: 0.6773852705955505\n",
      "Epoch: 54 Training Loss: 0.5897263050079345 Validation Loss: 0.6766610145568848\n",
      "Epoch: 55 Training Loss: 0.5892061144113541 Validation Loss: 0.6759860515594482\n",
      "Epoch: 56 Training Loss: 0.5887131065130233 Validation Loss: 0.6753056645393372\n",
      "Epoch: 57 Training Loss: 0.58823721408844 Validation Loss: 0.6746890544891357\n",
      "Epoch: 58 Training Loss: 0.5877896279096604 Validation Loss: 0.6740689277648926\n",
      "Epoch: 59 Training Loss: 0.5873552858829498 Validation Loss: 0.6734662055969238\n",
      "Epoch: 60 Training Loss: 0.5869370937347412 Validation Loss: 0.6729291081428528\n",
      "Epoch: 61 Training Loss: 0.5865412384271622 Validation Loss: 0.6723653078079224\n",
      "Epoch: 62 Training Loss: 0.586159273982048 Validation Loss: 0.6718021631240845\n",
      "Epoch: 63 Training Loss: 0.5857899218797684 Validation Loss: 0.6713051795959473\n",
      "Epoch: 64 Training Loss: 0.585439857840538 Validation Loss: 0.6707946062088013\n",
      "Epoch: 65 Training Loss: 0.5850944757461548 Validation Loss: 0.6703165769577026\n",
      "Epoch: 66 Training Loss: 0.5847721189260483 Validation Loss: 0.6698212623596191\n",
      "Epoch: 67 Training Loss: 0.5844488501548767 Validation Loss: 0.6693887710571289\n",
      "Epoch: 68 Training Loss: 0.5841487646102905 Validation Loss: 0.668944239616394\n",
      "Epoch: 69 Training Loss: 0.5838488310575485 Validation Loss: 0.6685236692428589\n",
      "Epoch: 70 Training Loss: 0.5835654318332673 Validation Loss: 0.6681099534034729\n",
      "Epoch: 71 Training Loss: 0.5832884848117829 Validation Loss: 0.6677127480506897\n",
      "Epoch: 72 Training Loss: 0.5830217480659485 Validation Loss: 0.667296826839447\n",
      "Epoch: 73 Training Loss: 0.5827620238065719 Validation Loss: 0.6669250726699829\n",
      "Epoch: 74 Training Loss: 0.5825113236904145 Validation Loss: 0.6665390729904175\n",
      "Epoch: 75 Training Loss: 0.5822680205106735 Validation Loss: 0.6661845445632935\n",
      "Epoch: 76 Training Loss: 0.5820312976837159 Validation Loss: 0.6658350229263306\n",
      "Epoch: 77 Training Loss: 0.5818017333745956 Validation Loss: 0.6654917001724243\n",
      "Epoch: 78 Training Loss: 0.5815786838531494 Validation Loss: 0.6651613712310791\n",
      "Epoch: 79 Training Loss: 0.5813616544008255 Validation Loss: 0.6648380756378174\n",
      "Epoch: 80 Training Loss: 0.5811512798070908 Validation Loss: 0.6645259261131287\n",
      "Epoch: 81 Training Loss: 0.5809457570314407 Validation Loss: 0.664218008518219\n",
      "Epoch: 82 Training Loss: 0.5807470172643662 Validation Loss: 0.6638996601104736\n",
      "Epoch: 83 Training Loss: 0.5805517613887787 Validation Loss: 0.6636102199554443\n",
      "Epoch: 84 Training Loss: 0.5803606510162354 Validation Loss: 0.6633208394050598\n",
      "Epoch: 85 Training Loss: 0.5801776438951493 Validation Loss: 0.6630306839942932\n",
      "Epoch: 86 Training Loss: 0.5799971610307694 Validation Loss: 0.6627575159072876\n",
      "Epoch: 87 Training Loss: 0.5798228144645691 Validation Loss: 0.6624742150306702\n",
      "Epoch: 88 Training Loss: 0.5796501576900482 Validation Loss: 0.6622121930122375\n",
      "Epoch: 89 Training Loss: 0.579484349489212 Validation Loss: 0.6619512438774109\n",
      "Epoch: 90 Training Loss: 0.5793210178613662 Validation Loss: 0.6616965532302856\n",
      "Epoch: 91 Training Loss: 0.5791621804237366 Validation Loss: 0.6614481210708618\n",
      "Epoch: 92 Training Loss: 0.5790067672729492 Validation Loss: 0.6612042784690857\n",
      "Epoch: 93 Training Loss: 0.5788550913333893 Validation Loss: 0.6609630584716797\n",
      "Epoch: 94 Training Loss: 0.5787064969539643 Validation Loss: 0.6607263684272766\n",
      "Epoch: 95 Training Loss: 0.5785601019859314 Validation Loss: 0.6604899168014526\n",
      "Epoch: 96 Training Loss: 0.5784188807010651 Validation Loss: 0.660261869430542\n",
      "Epoch: 97 Training Loss: 0.5782795876264573 Validation Loss: 0.6600354909896851\n",
      "Epoch: 98 Training Loss: 0.5781437635421753 Validation Loss: 0.6598124504089355\n",
      "Epoch: 99 Training Loss: 0.5780107885599136 Validation Loss: 0.6595950126647949\n",
      "Epoch: 0 Training Loss: 1.0824361443519592 Validation Loss: 1.0784106254577637\n",
      "Epoch: 1 Training Loss: 1.0727415978908539 Validation Loss: 1.0746383666992188\n",
      "Epoch: 2 Training Loss: 1.066001284122467 Validation Loss: 1.0703288316726685\n",
      "Epoch: 3 Training Loss: 1.058745163679123 Validation Loss: 1.0639655590057373\n",
      "Epoch: 4 Training Loss: 1.0505875945091248 Validation Loss: 1.0535142421722412\n",
      "Epoch: 5 Training Loss: 1.040531325340271 Validation Loss: 1.0384478569030762\n",
      "Epoch: 6 Training Loss: 1.0273624181747436 Validation Loss: 1.0185284614562988\n",
      "Epoch: 7 Training Loss: 1.005458617210388 Validation Loss: 0.9740477800369263\n",
      "Epoch: 8 Training Loss: 0.9740245789289474 Validation Loss: 0.9313734769821167\n",
      "Epoch: 9 Training Loss: 0.9419483929872513 Validation Loss: 0.8882958889007568\n",
      "Epoch: 10 Training Loss: 0.9116118729114533 Validation Loss: 0.8534595370292664\n",
      "Epoch: 11 Training Loss: 0.8847888618707657 Validation Loss: 0.8261003494262695\n",
      "Epoch: 12 Training Loss: 0.8616253435611725 Validation Loss: 0.8054760694503784\n",
      "Epoch: 13 Training Loss: 0.841743203997612 Validation Loss: 0.7895280122756958\n",
      "Epoch: 14 Training Loss: 0.8250917822122574 Validation Loss: 0.7767011523246765\n",
      "Epoch: 15 Training Loss: 0.8096182078123093 Validation Loss: 0.7675963640213013\n",
      "Epoch: 16 Training Loss: 0.7960635274648666 Validation Loss: 0.7588121891021729\n",
      "Epoch: 17 Training Loss: 0.7830153048038483 Validation Loss: 0.7515329122543335\n",
      "Epoch: 18 Training Loss: 0.7707162111997604 Validation Loss: 0.745341420173645\n",
      "Epoch: 19 Training Loss: 0.7588513165712356 Validation Loss: 0.7398391962051392\n",
      "Epoch: 20 Training Loss: 0.7472880452871322 Validation Loss: 0.7342900037765503\n",
      "Epoch: 21 Training Loss: 0.7361320734024048 Validation Loss: 0.7293194532394409\n",
      "Epoch: 22 Training Loss: 0.7253111302852631 Validation Loss: 0.7244039177894592\n",
      "Epoch: 23 Training Loss: 0.7148896157741547 Validation Loss: 0.719680905342102\n",
      "Epoch: 24 Training Loss: 0.7049788385629654 Validation Loss: 0.7153044939041138\n",
      "Epoch: 25 Training Loss: 0.6956122279167175 Validation Loss: 0.7108855247497559\n",
      "Epoch: 26 Training Loss: 0.6868217378854752 Validation Loss: 0.706559419631958\n",
      "Epoch: 27 Training Loss: 0.6786212354898453 Validation Loss: 0.7024618983268738\n",
      "Epoch: 28 Training Loss: 0.6709510147571563 Validation Loss: 0.6982172727584839\n",
      "Epoch: 29 Training Loss: 0.6636850804090499 Validation Loss: 0.6938977837562561\n",
      "Epoch: 30 Training Loss: 0.6566662579774857 Validation Loss: 0.6890785694122314\n",
      "Epoch: 31 Training Loss: 0.6500657290220261 Validation Loss: 0.6845971941947937\n",
      "Epoch: 32 Training Loss: 0.6441200166940689 Validation Loss: 0.6806765198707581\n",
      "Epoch: 33 Training Loss: 0.6389305561780929 Validation Loss: 0.6773102283477783\n",
      "Epoch: 34 Training Loss: 0.6343414217233658 Validation Loss: 0.6741246581077576\n",
      "Epoch: 35 Training Loss: 0.6302501618862152 Validation Loss: 0.6710942983627319\n",
      "Epoch: 36 Training Loss: 0.6265530318021775 Validation Loss: 0.6681766510009766\n",
      "Epoch: 37 Training Loss: 0.6231942713260651 Validation Loss: 0.6653981804847717\n",
      "Epoch: 38 Training Loss: 0.6201642245054245 Validation Loss: 0.6627492904663086\n",
      "Epoch: 39 Training Loss: 0.6174286991357804 Validation Loss: 0.6601996421813965\n",
      "Epoch: 40 Training Loss: 0.614936250448227 Validation Loss: 0.6577590703964233\n",
      "Epoch: 41 Training Loss: 0.6126706629991532 Validation Loss: 0.6554332971572876\n",
      "Epoch: 42 Training Loss: 0.6105980157852173 Validation Loss: 0.6531984806060791\n",
      "Epoch: 43 Training Loss: 0.6087175816297531 Validation Loss: 0.6510504484176636\n",
      "Epoch: 44 Training Loss: 0.6069726705551147 Validation Loss: 0.6489931344985962\n",
      "Epoch: 45 Training Loss: 0.6053722023963928 Validation Loss: 0.6470179557800293\n",
      "Epoch: 46 Training Loss: 0.6039063185453415 Validation Loss: 0.6451168060302734\n",
      "Epoch: 47 Training Loss: 0.6025410562753677 Validation Loss: 0.6432890892028809\n",
      "Epoch: 48 Training Loss: 0.6012829035520554 Validation Loss: 0.6415287852287292\n",
      "Epoch: 49 Training Loss: 0.60011086165905 Validation Loss: 0.6398385167121887\n",
      "Epoch: 50 Training Loss: 0.5990285545587539 Validation Loss: 0.6382091045379639\n",
      "Epoch: 51 Training Loss: 0.5980105400085449 Validation Loss: 0.6366395950317383\n",
      "Epoch: 52 Training Loss: 0.5970667123794555 Validation Loss: 0.6351257562637329\n",
      "Epoch: 53 Training Loss: 0.5961763709783554 Validation Loss: 0.6336673498153687\n",
      "Epoch: 54 Training Loss: 0.5953472256660461 Validation Loss: 0.6322590112686157\n",
      "Epoch: 55 Training Loss: 0.5945659875869751 Validation Loss: 0.6308919191360474\n",
      "Epoch: 56 Training Loss: 0.5938335657119751 Validation Loss: 0.6295840740203857\n",
      "Epoch: 57 Training Loss: 0.5931122541427613 Validation Loss: 0.6283200979232788\n",
      "Epoch: 58 Training Loss: 0.5924705296754837 Validation Loss: 0.627092719078064\n",
      "Epoch: 59 Training Loss: 0.5918486595153809 Validation Loss: 0.6259101629257202\n",
      "Epoch: 60 Training Loss: 0.5912642031908035 Validation Loss: 0.6247642040252686\n",
      "Epoch: 61 Training Loss: 0.5907068073749542 Validation Loss: 0.6236557960510254\n",
      "Epoch: 62 Training Loss: 0.5901776790618897 Validation Loss: 0.622581958770752\n",
      "Epoch: 63 Training Loss: 0.589672401547432 Validation Loss: 0.6215422749519348\n",
      "Epoch: 64 Training Loss: 0.5891927570104599 Validation Loss: 0.6205348968505859\n",
      "Epoch: 65 Training Loss: 0.5887327551841736 Validation Loss: 0.6195591688156128\n",
      "Epoch: 66 Training Loss: 0.5883039474487305 Validation Loss: 0.6185908913612366\n",
      "Epoch: 67 Training Loss: 0.5878812968730927 Validation Loss: 0.617681086063385\n",
      "Epoch: 68 Training Loss: 0.5874799221754075 Validation Loss: 0.6167896389961243\n",
      "Epoch: 69 Training Loss: 0.587099814414978 Validation Loss: 0.615904688835144\n",
      "Epoch: 70 Training Loss: 0.5867246150970459 Validation Loss: 0.6150736808776855\n",
      "Epoch: 71 Training Loss: 0.586356183886528 Validation Loss: 0.6142565011978149\n",
      "Epoch: 72 Training Loss: 0.5860192328691483 Validation Loss: 0.6134659647941589\n",
      "Epoch: 73 Training Loss: 0.5856962502002716 Validation Loss: 0.6126754283905029\n",
      "Epoch: 74 Training Loss: 0.5853771954774857 Validation Loss: 0.6119329333305359\n",
      "Epoch: 75 Training Loss: 0.5850716739892959 Validation Loss: 0.6112033128738403\n",
      "Epoch: 76 Training Loss: 0.58477563560009 Validation Loss: 0.6104949712753296\n",
      "Epoch: 77 Training Loss: 0.5844951152801514 Validation Loss: 0.6097838878631592\n",
      "Epoch: 78 Training Loss: 0.584215235710144 Validation Loss: 0.6091176271438599\n",
      "Epoch: 79 Training Loss: 0.5839493274688721 Validation Loss: 0.6084613800048828\n",
      "Epoch: 80 Training Loss: 0.5836901724338531 Validation Loss: 0.6078243851661682\n",
      "Epoch: 81 Training Loss: 0.5834392756223679 Validation Loss: 0.6072027087211609\n",
      "Epoch: 82 Training Loss: 0.5831955164670944 Validation Loss: 0.6065969467163086\n",
      "Epoch: 83 Training Loss: 0.5829593598842621 Validation Loss: 0.6060041189193726\n",
      "Epoch: 84 Training Loss: 0.5827303260564805 Validation Loss: 0.605427622795105\n",
      "Epoch: 85 Training Loss: 0.5825071632862091 Validation Loss: 0.6048638820648193\n",
      "Epoch: 86 Training Loss: 0.5822901487350464 Validation Loss: 0.6043139100074768\n",
      "Epoch: 87 Training Loss: 0.5820670902729035 Validation Loss: 0.6037662625312805\n",
      "Epoch: 88 Training Loss: 0.5818688362836838 Validation Loss: 0.6032458543777466\n",
      "Epoch: 89 Training Loss: 0.5816668480634689 Validation Loss: 0.6027296185493469\n",
      "Epoch: 90 Training Loss: 0.5814737677574158 Validation Loss: 0.6022287011146545\n",
      "Epoch: 91 Training Loss: 0.5812840640544892 Validation Loss: 0.6017372012138367\n",
      "Epoch: 92 Training Loss: 0.5810996979475022 Validation Loss: 0.6012572050094604\n",
      "Epoch: 93 Training Loss: 0.5809200465679168 Validation Loss: 0.600785493850708\n",
      "Epoch: 94 Training Loss: 0.5807443469762802 Validation Loss: 0.6003267765045166\n",
      "Epoch: 95 Training Loss: 0.5805726736783982 Validation Loss: 0.5998770594596863\n",
      "Epoch: 96 Training Loss: 0.5804057002067566 Validation Loss: 0.5994375348091125\n",
      "Epoch: 97 Training Loss: 0.5802420675754547 Validation Loss: 0.5990065336227417\n",
      "Epoch: 98 Training Loss: 0.5800823837518692 Validation Loss: 0.5985844135284424\n",
      "Epoch: 99 Training Loss: 0.5799259960651397 Validation Loss: 0.598170816898346\n"
     ]
    }
   ],
   "source": [
    "num_models = 3\n",
    "\n",
    "models_list = []\n",
    "train_losses_list = []\n",
    "validate_losses_list = []\n",
    "\n",
    "for i in range(num_models):\n",
    "    model = models.create_model()\n",
    "    optimizer = torch.optim.Adam(model.parameters(), lr=0.001)\n",
    "    model, train_losses, validate_losses = training_loop.train_model(model, train_dataloader, validate_dataloader, criterion, optimizer, num_epochs)\n",
    "    train_losses_list.append(train_losses)\n",
    "    validate_losses_list.append(validate_losses)\n",
    "    models_list.append(model)"
   ]
  },
  {
   "cell_type": "code",
   "execution_count": 208,
   "metadata": {},
   "outputs": [
    {
     "data": {
      "image/png": "[encoded data removed]",
      "text/plain": [
       "<Figure size 640x480 with 3 Axes>"
      ]
     },
     "metadata": {},
     "output_type": "display_data"
    }
   ],
   "source": [
    "\n",
    "for i in range(len(train_losses_list)):\n",
    "    plt.subplot(3, 1, i+1)\n",
    "    plt.plot(range(num_epochs), train_losses_list[i], label='Training Loss')\n",
    "    plt.plot(range(num_epochs), validate_losses_list[i], label='Validation Loss')\n",
    "    plt.legend()\n"
   ]
  },
  {
   "cell_type": "code",
   "execution_count": 209,
   "metadata": {},
   "outputs": [
    {
     "name": "stdout",
     "output_type": "stream",
     "text": [
      "tensor([2, 2, 2, 1, 2, 1, 2, 1, 2, 2, 2, 0, 0, 1, 0, 1, 0, 2, 0, 0, 1, 2, 0, 0,\n",
      "        1, 1, 1, 1, 0, 1])\n",
      "tensor([2, 2, 2, 1, 2, 1, 2, 1, 2, 2, 2, 0, 0, 1, 0, 2, 0, 1, 0, 0, 1, 2, 0, 0,\n",
      "        1, 1, 1, 1, 0, 1])\n",
      "6\n"
     ]
    }
   ],
   "source": [
    "model_ensemble = models.ModelEnsemble(models_list, test_dataloader)\n",
    "print(model_ensemble.ensemble_output)\n",
    "print(model_ensemble.labels)\n",
    "print(len(test_dataloader))"
   ]
  },
  {
   "cell_type": "code",
   "execution_count": 210,
   "metadata": {},
   "outputs": [
    {
     "name": "stdout",
     "output_type": "stream",
     "text": [
      "3\n"
     ]
    }
   ],
   "source": [
    "print(len(model_ensemble.model_outputs))"
   ]
  },
  {
   "cell_type": "code",
   "execution_count": 211,
   "metadata": {},
   "outputs": [],
   "source": [
    "correct, total, total_predictions, total_labels, total_outputs = evaluate_model.test_model(model, test_dataloader)"
   ]
  },
  {
   "cell_type": "markdown",
   "metadata": {},
   "source": []
  },
  {
   "cell_type": "code",
   "execution_count": 212,
   "metadata": {},
   "outputs": [],
   "source": [
    "# Save our NN Model\n",
    "torch.save(model.state_dict(), 'simple_neural_network.pt')\n",
    "     "
   ]
  },
  {
   "cell_type": "code",
   "execution_count": 213,
   "metadata": {},
   "outputs": [
    {
     "data": {
      "text/plain": [
       "<All keys matched successfully>"
      ]
     },
     "execution_count": 213,
     "metadata": {},
     "output_type": "execute_result"
    }
   ],
   "source": [
    "# Load the Saved Model\n",
    "new_model = models.Model()\n",
    "new_model.load_state_dict(torch.load('simple_neural_network.pt'))"
   ]
  },
  {
   "cell_type": "code",
   "execution_count": 214,
   "metadata": {},
   "outputs": [
    {
     "data": {
      "text/plain": [
       "Model(\n",
       "  (fc1): Linear(in_features=4, out_features=16, bias=True)\n",
       "  (fc2): Linear(in_features=16, out_features=16, bias=True)\n",
       "  (out): Linear(in_features=16, out_features=3, bias=True)\n",
       ")"
      ]
     },
     "execution_count": 214,
     "metadata": {},
     "output_type": "execute_result"
    }
   ],
   "source": [
    "# Make sure it loaded correctly\n",
    "new_model.eval()"
   ]
  }
 ],
 "metadata": {
  "kernelspec": {
   "display_name": "venv",
   "language": "python",
   "name": "python3"
  },
  "language_info": {
   "codemirror_mode": {
    "name": "ipython",
    "version": 3
   },
   "file_extension": ".py",
   "mimetype": "text/x-python",
   "name": "python",
   "nbconvert_exporter": "python",
   "pygments_lexer": "ipython3",
   "version": "3.13.1"
  }
 },
 "nbformat": 4,
 "nbformat_minor": 2
}
